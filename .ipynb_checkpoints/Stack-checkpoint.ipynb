{
 "cells": [
  {
   "cell_type": "code",
   "execution_count": 1,
   "metadata": {},
   "outputs": [
    {
     "name": "stdout",
     "output_type": "stream",
     "text": [
      "True\n"
     ]
    }
   ],
   "source": [
    "class Solution:\n",
    "    def isValid(self, s: str) -> bool:\n",
    "        stack = []\n",
    "        for i in range(len(s)):\n",
    "            if s[i] in '({[':\n",
    "                stack.append(s[i])\n",
    "            elif s[i] == ')':\n",
    "                if not stack or stack[-1] != '(':\n",
    "                    return False\n",
    "                stack.pop()\n",
    "            elif s[i] == '}':\n",
    "                if not stack or stack[-1] != '{':\n",
    "                    return False\n",
    "                stack.pop()\n",
    "            elif s[i] == ']':\n",
    "                if not stack or stack[-1] != '[':\n",
    "                    return False\n",
    "                stack.pop()\n",
    "        return not stack\n",
    "\n",
    "\n",
    "str = \"()\"\n",
    "\n",
    "solution = Solution()\n",
    "print(solution.isValid(str)) "
   ]
  },
  {
   "cell_type": "markdown",
   "metadata": {},
   "source": [
    "### 150. Evaluate Reverse Polish Notation"
   ]
  },
  {
   "cell_type": "code",
   "execution_count": 2,
   "metadata": {},
   "outputs": [
    {
     "name": "stdout",
     "output_type": "stream",
     "text": [
      "22\n"
     ]
    }
   ],
   "source": [
    "class Solution(object):\n",
    "    def evalRPN(self, tokens):\n",
    "        \"\"\"\n",
    "        :type tokens: List[str]\n",
    "        :rtype: int\n",
    "        \"\"\"\n",
    "        # the stack for the storing a number from the token list\n",
    "        stack = []\n",
    "\n",
    "        # Get the value from the token\n",
    "        for c in tokens:\n",
    "            # Check whether the value is a number or  symbols\n",
    "            if c == \"+\":\n",
    "                # order doesn't matter\n",
    "                stack.append(stack.pop() + stack.pop())\n",
    "            elif c == \"-\":\n",
    "                # the order matter in the subtract opretation.\n",
    "                a, b = stack.pop(), stack.pop()\n",
    "                stack.append(b - a)\n",
    "            elif c == \"/\":\n",
    "                a, b = stack.pop(), stack.pop()\n",
    "                # int(b/a) is worked in the vscode environment but the leetcode doesn't accept the code\n",
    "                stack.append(int(float(b)/a))\n",
    "            elif c == \"*\":\n",
    "                # order doesn't matter \n",
    "                stack.append(stack.pop() * stack.pop())\n",
    "            else:\n",
    "                # Append a number to stack\n",
    "                stack.append(int(c))\n",
    "        # return the last element of stack\n",
    "        return stack[0]\n",
    "\n",
    "\n",
    "tokens = [\"10\", \"6\", \"9\", \"3\", \"+\", \"-11\", \"*\", \"/\", \"*\", \"17\", \"+\", \"5\", \"+\"]\n",
    "\n",
    "solution = Solution()\n",
    "print(solution.evalRPN(tokens))"
   ]
  },
  {
   "cell_type": "code",
   "execution_count": 3,
   "metadata": {},
   "outputs": [
    {
     "name": "stdout",
     "output_type": "stream",
     "text": [
      "-0.045454545454545456\n"
     ]
    }
   ],
   "source": [
    "print(6 / -132)"
   ]
  },
  {
   "cell_type": "code",
   "execution_count": 4,
   "metadata": {},
   "outputs": [
    {
     "name": "stdout",
     "output_type": "stream",
     "text": [
      "['(((())))', '((()()))', '((())())', '((()))()', '(()(()))', '(()()())', '(()())()', '(())(())', '(())()()', '()((()))', '()(()())', '()(())()', '()()(())', '()()()()']\n"
     ]
    }
   ],
   "source": [
    "class Solution(object):\n",
    "    def generateParenthesis(self, n):\n",
    "        \"\"\"\n",
    "        :type n: int\n",
    "        :rtype: List[str]\n",
    "        \"\"\"\n",
    "       # the stack for the storing a number from the token list\n",
    "        stack = []\n",
    "        res = []\n",
    "\n",
    "        def backtrack(openN, closeN):\n",
    "            if openN == closeN == n:\n",
    "                res.append(\"\".join(stack))\n",
    "                return\n",
    "            \n",
    "            if openN < n:\n",
    "                stack.append(\"(\")\n",
    "                backtrack(openN + 1, closeN)\n",
    "                stack.pop()\n",
    "                \n",
    "            if closeN < openN:\n",
    "                stack.append(\")\")\n",
    "                backtrack(openN, closeN + 1)\n",
    "                stack.pop()\n",
    "\n",
    "        backtrack(0, 0)\n",
    "        return res\n",
    "    \n",
    "solution = Solution()\n",
    "print(solution.generateParenthesis(4))"
   ]
  }
 ],
 "metadata": {
  "kernelspec": {
   "display_name": "Python 3",
   "language": "python",
   "name": "python3"
  },
  "language_info": {
   "codemirror_mode": {
    "name": "ipython",
    "version": 3
   },
   "file_extension": ".py",
   "mimetype": "text/x-python",
   "name": "python",
   "nbconvert_exporter": "python",
   "pygments_lexer": "ipython3",
   "version": "3.11.5"
  }
 },
 "nbformat": 4,
 "nbformat_minor": 2
}
