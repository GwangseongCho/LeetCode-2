{
 "cells": [
  {
   "cell_type": "code",
   "execution_count": 47,
   "metadata": {},
   "outputs": [
    {
     "name": "stdout",
     "output_type": "stream",
     "text": [
      "0\n",
      "1\n",
      "True\n"
     ]
    }
   ],
   "source": [
    "class Solution:\n",
    "    def isValid(self, s: str) -> bool:\n",
    "        stack = []\n",
    "        for i in range(len(s)):\n",
    "            if s[i] in '({[':\n",
    "                stack.append(s[i])\n",
    "            elif s[i] == ')':\n",
    "                if not stack or stack[-1] != '(':\n",
    "                    return False\n",
    "                stack.pop()\n",
    "            elif s[i] == '}':\n",
    "                if not stack or stack[-1] != '{':\n",
    "                    return False\n",
    "                stack.pop()\n",
    "            elif s[i] == ']':\n",
    "                if not stack or stack[-1] != '[':\n",
    "                    return False\n",
    "                stack.pop()\n",
    "        return not stack\n",
    "\n",
    "\n",
    "str = \"()\"\n",
    "\n",
    "solution = Solution()\n",
    "print(solution.isValid(str))      \n",
    "                     \n",
    "                     \n",
    "                 \n",
    "                 \n"
   ]
  }
 ],
 "metadata": {
  "kernelspec": {
   "display_name": "Python 3",
   "language": "python",
   "name": "python3"
  },
  "language_info": {
   "codemirror_mode": {
    "name": "ipython",
    "version": 3
   },
   "file_extension": ".py",
   "mimetype": "text/x-python",
   "name": "python",
   "nbconvert_exporter": "python",
   "pygments_lexer": "ipython3",
   "version": "3.11.5"
  }
 },
 "nbformat": 4,
 "nbformat_minor": 2
}
