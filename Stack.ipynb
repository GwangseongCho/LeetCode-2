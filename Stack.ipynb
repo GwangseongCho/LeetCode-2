{
 "cells": [
  {
   "cell_type": "code",
   "execution_count": 47,
   "metadata": {},
   "outputs": [
    {
     "name": "stdout",
     "output_type": "stream",
     "text": [
      "0\n",
      "1\n",
      "True\n"
     ]
    }
   ],
   "source": [
    "class Solution:\n",
    "    def isValid(self, s: str) -> bool:\n",
    "        stack = []\n",
    "        for i in range(len(s)):\n",
    "            if s[i] in '({[':\n",
    "                stack.append(s[i])\n",
    "            elif s[i] == ')':\n",
    "                if not stack or stack[-1] != '(':\n",
    "                    return False\n",
    "                stack.pop()\n",
    "            elif s[i] == '}':\n",
    "                if not stack or stack[-1] != '{':\n",
    "                    return False\n",
    "                stack.pop()\n",
    "            elif s[i] == ']':\n",
    "                if not stack or stack[-1] != '[':\n",
    "                    return False\n",
    "                stack.pop()\n",
    "        return not stack\n",
    "\n",
    "\n",
    "str = \"()\"\n",
    "\n",
    "solution = Solution()\n",
    "print(solution.isValid(str))      \n",
    "                     \n",
    "                     \n",
    "                 \n",
    "                 \n"
   ]
  },
  {
   "cell_type": "markdown",
   "metadata": {},
   "source": [
    "### 150. Evaluate Reverse Polish Notation"
   ]
  },
  {
   "cell_type": "code",
   "execution_count": 12,
   "metadata": {},
   "outputs": [
    {
     "name": "stdout",
     "output_type": "stream",
     "text": [
      "22\n"
     ]
    }
   ],
   "source": [
    "class Solution(object):\n",
    "    def evalRPN(self, tokens):\n",
    "        \"\"\"\n",
    "        :type tokens: List[str]\n",
    "        :rtype: int\n",
    "        \"\"\"\n",
    "        stack = []\n",
    "\n",
    "        for c in tokens:\n",
    "            if c == \"+\":\n",
    "                stack.append(stack.pop() + stack.pop())\n",
    "            elif c == \"-\":\n",
    "                a, b = stack.pop(), stack.pop()\n",
    "                stack.append(b - a)\n",
    "            elif c == \"/\":\n",
    "                a, b = stack.pop(), stack.pop()\n",
    "                stack.append(int(float(b)/a))\n",
    "            elif c == \"*\":\n",
    "                stack.append(stack.pop() * stack.pop())\n",
    "            else:\n",
    "                stack.append(int(c))\n",
    "\n",
    "        return stack[0]\n",
    "        "
   ]
  },
  {
   "cell_type": "code",
   "execution_count": 16,
   "metadata": {},
   "outputs": [
    {
     "name": "stdout",
     "output_type": "stream",
     "text": [
      "-0.045454545454545456\n"
     ]
    }
   ],
   "source": [
    "print(float(6) / -132)"
   ]
  }
 ],
 "metadata": {
  "kernelspec": {
   "display_name": "Python 3",
   "language": "python",
   "name": "python3"
  },
  "language_info": {
   "codemirror_mode": {
    "name": "ipython",
    "version": 3
   },
   "file_extension": ".py",
   "mimetype": "text/x-python",
   "name": "python",
   "nbconvert_exporter": "python",
   "pygments_lexer": "ipython3",
   "version": "3.11.5"
  }
 },
 "nbformat": 4,
 "nbformat_minor": 2
}
