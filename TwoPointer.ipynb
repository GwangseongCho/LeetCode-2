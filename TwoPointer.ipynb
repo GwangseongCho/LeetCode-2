{
 "cells": [
  {
   "cell_type": "code",
   "execution_count": null,
   "metadata": {},
   "outputs": [],
   "source": [
    "class Solution:\n",
    "    def isPalindrome(self, s: str) -> bool:\n",
    "        s = s.lower()\n",
    "        isPal = \"\"\n",
    "        for i in s:\n",
    "            if (i.isalpha() or i.isdigit()):\n",
    "                isPal = isPal + i\n",
    "\n",
    "        for i in range(len(isPal)):\n",
    "            if (i == len(isPal) - 1 - i):\n",
    "                return True\n",
    "            if isPal[i] == isPal[len(isPal) - 1 - i]:\n",
    "                continue\n",
    "            else:\n",
    "                return False\n",
    "        return True\n",
    "\n",
    "\n",
    "s = \"A man, a plan, a canal: Panama\"\n",
    "\n",
    "\n",
    "solution = Solution()\n",
    "print(solution.isPalindrome(s))"
   ]
  },
  {
   "cell_type": "code",
   "execution_count": null,
   "metadata": {},
   "outputs": [],
   "source": [
    "class Solution(object):\n",
    "    def twoSum(self, numbers, target):\n",
    "        \"\"\"\n",
    "        :type numbers: List[int]\n",
    "        :type target: int\n",
    "        :rtype: List[int]\n",
    "        \"\"\"\n",
    "        i, j = 0, (len(numbers) - 1)\n",
    "\n",
    "        while i < j:\n",
    "            curSum = numbers[i] + numbers[j]\n",
    "\n",
    "            if curSum < target:\n",
    "                i += 1\n",
    "            elif curSum > target:\n",
    "                j -= 1\n",
    "            else:\n",
    "                return [i+1, j+1]\n",
    "\n",
    "\n",
    "numbers = [2, 3, 4]\n",
    "target = 7\n",
    "\n",
    "solution = Solution()\n",
    "print(solution.twoSum(numbers, target))"
   ]
  },
  {
   "cell_type": "code",
   "execution_count": 2,
   "metadata": {},
   "outputs": [
    {
     "name": "stdout",
     "output_type": "stream",
     "text": [
      "[[-3, -1, 4]]\n"
     ]
    }
   ],
   "source": [
    "class Solution(object):\n",
    "    def threeSum(self, nums):\n",
    "        \"\"\"\n",
    "        :type nums: List[int]\n",
    "        :rtype: List[List[int]]\n",
    "        \"\"\"\n",
    "        nums.sort()\n",
    "        res = []\n",
    "\n",
    "        for index, num in enumerate(nums):\n",
    "            if num > 0:\n",
    "                break\n",
    "            if index > 0 and num == nums[index -1]:\n",
    "                continue\n",
    "\n",
    "            l ,r = index + 1, len(nums) - 1\n",
    "            \n",
    "            while l < r:\n",
    "                threeSum = num + nums[l] + nums[r]\n",
    "\n",
    "                if threeSum > 0:\n",
    "                    r -= 1\n",
    "                elif threeSum < 0:\n",
    "                    l += 1\n",
    "                else:\n",
    "                    res.append([num,nums[l], nums[r]])\n",
    "                    l += 1\n",
    "                    r -= 1\n",
    "                    while nums[l] == nums[l - 1] and l < r:\n",
    "                        l += 1\n",
    "        return res\n",
    "\n",
    "nums = [-3,-1,0,2,4,5]\n",
    "\n",
    "solution = Solution()\n",
    "print(solution.threeSum(nums))      \n"
   ]
  },
  {
   "cell_type": "code",
   "execution_count": 1,
   "metadata": {},
   "outputs": [
    {
     "name": "stdout",
     "output_type": "stream",
     "text": [
      "49\n"
     ]
    }
   ],
   "source": [
    "# Hint 1\n",
    "# If you simulate the problem, it will be O(n^2) which is not efficient.\n",
    "# Hint 2\n",
    "# Try to use two-pointers. Set one pointer to the left and one to the right of the array. Always move the pointer that points to the lower line.\n",
    "# Hint 3\n",
    "# How can you calculate the amount of water at each step?\n",
    "\n",
    "\n",
    "class Solution(object):\n",
    "    def maxArea(self, height):\n",
    "        \"\"\"\n",
    "        :type height: List[int]\n",
    "        :rtype: int\n",
    "        \"\"\"\n",
    "        \n",
    "        res = 0\n",
    "        last = len(height)-1\n",
    "\n",
    "        h, l, r= 0, 0, last\n",
    "\n",
    "        while l < r:\n",
    "            \n",
    "            if height[l] < height[r]:\n",
    "                h = height[l]\n",
    "                temp = (r-l)*h\n",
    "                l += 1\n",
    "            else:\n",
    "                h = height[r]\n",
    "                temp = (r-l)*h\n",
    "                r -= 1\n",
    "            if res < temp:\n",
    "                res = temp\n",
    "            else:\n",
    "                continue\n",
    "            \n",
    "        \n",
    "        return res\n",
    "    \n",
    "height = [1,8,6,2,5,4,8,3,7]\n",
    "\n",
    "solution = Solution()\n",
    "print(solution.maxArea(height))    "
   ]
  },
  {
   "cell_type": "code",
   "execution_count": null,
   "metadata": {},
   "outputs": [],
   "source": []
  }
 ],
 "metadata": {
  "kernelspec": {
   "display_name": "Python 3",
   "language": "python",
   "name": "python3"
  },
  "language_info": {
   "codemirror_mode": {
    "name": "ipython",
    "version": 3
   },
   "file_extension": ".py",
   "mimetype": "text/x-python",
   "name": "python",
   "nbconvert_exporter": "python",
   "pygments_lexer": "ipython3",
   "version": "3.11.5"
  }
 },
 "nbformat": 4,
 "nbformat_minor": 2
}
