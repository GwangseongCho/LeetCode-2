{
 "cells": [
  {
   "cell_type": "code",
   "execution_count": 1,
   "metadata": {},
   "outputs": [
    {
     "name": "stdout",
     "output_type": "stream",
     "text": [
      "set()\n",
      "set()\n",
      "None\n"
     ]
    }
   ],
   "source": [
    "class Solution(object):\n",
    "    def groupAnagrams(self, strs):\n",
    "        \"\"\"\n",
    "        :type strs: List[str]\n",
    "        :rtype: List[List[str]]\n",
    "        \"\"\"\n",
    "        mySet = set()\n",
    "        grouplist = []\n",
    "        print(mySet)\n",
    "\n",
    "        for _str in strs:\n",
    "            res = ''.join(sorted(_str))\n",
    "            if res in mySet:\n",
    "                mySet.add([res])\n",
    "            else:\n",
    "                continue\n",
    "\n",
    "        print(mySet)\n",
    "\n",
    "\n",
    "\n",
    "strs = [\"eat\",\"tea\",\"tan\",\"ate\",\"nat\",\"bat\"]\n",
    "\n",
    "solution = Solution()\n",
    "print(solution.groupAnagrams(strs))      \n",
    "        "
   ]
  },
  {
   "cell_type": "code",
   "execution_count": null,
   "metadata": {},
   "outputs": [],
   "source": [
    "#https://leetcode.com/problems/top-k-frequent-elements/description/\n",
    "# 347. Top K Frequent Elements\n",
    "\n",
    "class Solution(object):\n",
    "    def topKFrequent(self, nums, k):\n",
    "        \"\"\"\n",
    "        :type nums: List[int]\n",
    "        :type k: int\n",
    "        :rtype: List[int]\n",
    "        \"\"\"\n",
    "        count = {}\n",
    "        freq = [[] for i in range(len(nums) + 1)]\n",
    "\n",
    "        for n in nums:\n",
    "            count[n] = 1 + count.get(n,0)\n",
    "        for n,c in count.items():\n",
    "            freq[c].append(n)\n",
    "\n",
    "        res = []\n",
    "\n",
    "        for i in reversed(range(len(freq))):\n",
    "            for n in freq[i]:\n",
    "                res.append(n)\n",
    "            if k == len(res):\n",
    "                return res "
   ]
  },
  {
   "cell_type": "code",
   "execution_count": null,
   "metadata": {},
   "outputs": [],
   "source": [
    "#https://leetcode.com/problems/product-of-array-except-self/\n",
    "#238. Product of Array Except Self\n",
    "class Solution(object):\n",
    "    def productExceptSelf(self, nums):\n",
    "        \"\"\"\n",
    "        :type nums: List[int]\n",
    "        :rtype: List[int]\n",
    "        \"\"\"\n",
    "        \n",
    "        res = [1] * len(nums)\n",
    "\n",
    "        prefix = 1\n",
    "    \n",
    "        for i in range(len(nums)):\n",
    "            res[i] *= prefix \n",
    "            prefix *= res[i]\n",
    "\n",
    "        postfix = 1\n",
    "        for i in reversed(range(len(nums))):\n",
    "            res[i] *= postfix\n",
    "            postfix *= res[i]\n",
    "\n",
    "        return res"
   ]
  },
  {
   "cell_type": "code",
   "execution_count": 28,
   "metadata": {},
   "outputs": [
    {
     "name": "stdout",
     "output_type": "stream",
     "text": [
      "False\n"
     ]
    }
   ],
   "source": [
    "from collections import defaultdict\n",
    "\n",
    "class Solution(object):\n",
    "    def isValidSudoku(self, board):\n",
    "        \"\"\"\n",
    "        :type board: List[List[str]]\n",
    "        :rtype: bool\n",
    "        \"\"\"\n",
    "\n",
    "        cols = defaultdict(set)\n",
    "        rows = defaultdict(set)\n",
    "        squares = defaultdict(set)\n",
    "\n",
    "        for r in range(9):\n",
    "            for c in range(9):\n",
    "                if board[r][c] == '.':\n",
    "                    continue\n",
    "                if (board[r][c] in rows[r] or \n",
    "                    board[r][c] in cols[c] or\n",
    "                    board[r][c] in squares[(r//3, c//3)]):\n",
    "                    return False\n",
    "                rows[r].add(board[r][c])\n",
    "                cols[r].add(board[r][c])\n",
    "                squares[r].add(board[r][c])\n",
    "        return True\n",
    "          \n",
    "\n",
    "\n",
    "# Example usage:\n",
    "sudoku_board = [[\"5\",\"3\",\".\",\".\",\"7\",\".\",\".\",\".\",\".\"],\n",
    "                [\"6\",\".\",\".\",\"1\",\"9\",\"5\",\".\",\".\",\".\"],\n",
    "                [\".\",\"9\",\"8\",\".\",\".\",\".\",\".\",\"6\",\".\"],\n",
    "                [\"8\",\".\",\".\",\".\",\"6\",\".\",\".\",\".\",\"3\"],\n",
    "                [\"4\",\".\",\".\",\"8\",\".\",\"3\",\".\",\".\",\"1\"],\n",
    "                [\"7\",\".\",\".\",\".\",\"2\",\".\",\".\",\".\",\"6\"],\n",
    "                [\".\",\"6\",\".\",\".\",\".\",\".\",\"2\",\"8\",\".\"],\n",
    "                [\".\",\".\",\".\",\"4\",\"1\",\"9\",\".\",\".\",\"5\"],\n",
    "                [\".\",\".\",\".\",\".\",\"8\",\".\",\".\",\"7\",\"9\"]]\n",
    "\n",
    "\n",
    "solution = Solution()\n",
    "print(solution.isValidSudoku(sudoku_board))  # Should return True for a valid Sudoku board.\n"
   ]
  },
  {
   "cell_type": "code",
   "execution_count": 2,
   "metadata": {},
   "outputs": [
    {
     "name": "stdout",
     "output_type": "stream",
     "text": [
      "defaultdict(<class 'set'>, {0: {1, 3}, 1: {2}})\n",
      "defaultdict(<class 'set'>, {0: 4, 1: 5})\n",
      "defaultdict(<class 'set'>, {0: 4, 1: 7})\n"
     ]
    }
   ],
   "source": [
    "from collections import defaultdict\n",
    "\n",
    "# Create a defaultdict of sets\n",
    "rows = defaultdict(set)\n",
    "\n",
    "# Example 1: Using rows[r].add(board[r][c])\n",
    "\n",
    "# Adding elements to sets associated with keys\n",
    "rows[0].add(1)\n",
    "rows[1].add(2)\n",
    "rows[0].add(3)\n",
    "\n",
    "print(rows)\n",
    "# Output:\n",
    "# defaultdict(<class 'set'>, {0: {1, 3}, 1: {2}})\n",
    "\n",
    "# Example 2: Using rows[r] = board[r][c]\n",
    "\n",
    "# Assigning values directly to keys\n",
    "rows[0] = 4\n",
    "rows[1] = 5\n",
    "\n",
    "print(rows)\n",
    "# Output:\n",
    "# defaultdict(<class 'set'>, {0: 4, 1: 5})\n",
    "\n",
    "# Example 3: Combining both methods\n",
    "\n",
    "# Adding elements to sets and assigning values\n",
    "rows[1] = 7\n",
    "\n",
    "print(rows)\n",
    "# Output:\n",
    "# defaultdict(<class 'set'>, {0: {4, 6}, 1: 7})\n"
   ]
  },
  {
   "cell_type": "code",
   "execution_count": 3,
   "metadata": {},
   "outputs": [
    {
     "name": "stdout",
     "output_type": "stream",
     "text": [
      "5\n"
     ]
    }
   ],
   "source": [
    "class Solution:\n",
    "    def maxProfit(self, prices) -> int:\n",
    "        min_price = prices[0]\n",
    "        max_profit = 0\n",
    "        \n",
    "        for price in prices[1:]:\n",
    "            max_profit = max(max_profit, price - min_price)\n",
    "            min_price = min(min_price, price)\n",
    "        return max_profit\n",
    "\n",
    "      \n",
    "\n",
    "\n",
    "\n",
    "prices = [7,1,5,3,6,4]\n",
    "\n",
    "solution = Solution()\n",
    "print(solution.maxProfit(prices))\n",
    "            "
   ]
  },
  {
   "cell_type": "code",
   "execution_count": 24,
   "metadata": {},
   "outputs": [
    {
     "name": "stdout",
     "output_type": "stream",
     "text": [
      "4\n"
     ]
    }
   ],
   "source": [
    "class Solution(object):\n",
    "    def numIdenticalPairs(self, nums):\n",
    "        \"\"\"\n",
    "        :type nums: List[int]\n",
    "        :rtype: int\n",
    "        \"\"\"\n",
    "        #how to make the pairs?\n",
    "        #how to store the pairs?\n",
    "        #how to find the pairs?\n",
    "        #iterate the number and compare the elements of list if they are same then increase the value of identical_pairs \n",
    "        gp = 0\n",
    "        # for loop in [0,len(nums))\n",
    "        for i in range(len(nums)):\n",
    "            # for loop in [i+1,len(nums))\n",
    "            for j in range(i+1,len(nums)):\n",
    "                # if condition fines the same number then update a good pair by increasing one.\n",
    "                if nums[i] == nums[j]:\n",
    "                    gp += 1\n",
    "        # return gp\n",
    "        return gp\n",
    "\n",
    "                    \n",
    "\n",
    "\n",
    "nums = [1,2,3,1,1,3]\n",
    "\n",
    "solution = Solution()\n",
    "print(solution.numIdenticalPairs(nums))"
   ]
  },
  {
   "cell_type": "code",
   "execution_count": null,
   "metadata": {},
   "outputs": [],
   "source": [
    "class Solution(object):\n",
    "    def longestConsecutive(self, nums):\n",
    "        \"\"\"\n",
    "        :type nums: List[int]\n",
    "        :rtype: int\n",
    "        \"\"\"\n",
    "        numSet = set(nums)\n",
    "        longest = 0\n",
    "\n",
    "        for num in nums:\n",
    "            #check whether num is the first of a sequence.\n",
    "            if num - 1 not in numSet:\n",
    "                # if num is the first of a sequence set the length = 1\n",
    "                length = 1\n",
    "                # loop while num + length is not in numSet\n",
    "                while (num + length) in numSet:\n",
    "                    # increment the length until find the end of a sequence.\n",
    "                    length += 1\n",
    "                # 1. set the longestConsecutive using max function. \n",
    "                # 2. if a length of other sequence is bigger than current, then change the longest\n",
    "                longest = max(longest, length)\n",
    "        # return longest\n",
    "        return longest\n",
    "\n",
    "\n",
    "\n",
    "\n",
    "nums = [100,4,200,1,3,2]\n",
    "\n",
    "solution = Solution()\n",
    "print(solution.longestConsecutive(nums))"
   ]
  },
  {
   "cell_type": "code",
   "execution_count": 36,
   "metadata": {},
   "outputs": [
    {
     "name": "stdout",
     "output_type": "stream",
     "text": [
      "[1, 2, 2, 3, 5, 6]\n"
     ]
    }
   ],
   "source": [
    "#2023 Oct 10\n",
    "class Solution(object):\n",
    "    def merge(self, nums1, m, nums2, n):\n",
    "        \"\"\"\n",
    "        :type nums1: List[int]\n",
    "        :type m: int\n",
    "        :type nums2: List[int]\n",
    "        :type n: int\n",
    "        :rtype: None Do not return anything, modify nums1 in-place instead.\n",
    "        \"\"\"\n",
    "        nums = []\n",
    "        # for loop while the nums1 \n",
    "        for i in range(len(nums2)):\n",
    "            nums1[m+i] = nums2[i]\n",
    "\n",
    "        return nums1.sort() \n",
    "    \n",
    "nums1 = [1,2,3,0,0,0]\n",
    "m = 3\n",
    "nums2 = [2,5,6]\n",
    "n = 3\n",
    "\n",
    "solution = Solution()\n",
    "print(solution.merge(nums1, m, nums2, n))"
   ]
  },
  {
   "cell_type": "markdown",
   "metadata": {},
   "source": [
    "#### 27. Remove Element\n",
    "level: Easy\n",
    "\n",
    "Given an integer array nums and an integer val, remove all occurrences of val in nums in-place. The order of the elements may be changed. Then return the number of elements in nums which are not equal to val.\n",
    "\n",
    "Consider the number of elements in nums which are not equal to val be k, to get accepted, you need to do the following things:\n",
    "\n",
    "* Change the array nums such that the first k elements of nums contain the elements which are not equal to val. The remaining elements of nums are not important as well as the size of nums.\n",
    "* Return k."
   ]
  },
  {
   "cell_type": "code",
   "execution_count": 1,
   "metadata": {},
   "outputs": [
    {
     "name": "stdout",
     "output_type": "stream",
     "text": [
      "3\n"
     ]
    }
   ],
   "source": [
    "#2023 Oct 10\n",
    "\n",
    "class Solution(object):\n",
    "    def removeElement(self, nums, val):\n",
    "        \"\"\"\n",
    "        :type nums: List[int]\n",
    "        :type val: int\n",
    "        :rtype: int\n",
    "        \"\"\"\n",
    "        # set a index val to 0\n",
    "        i = 0\n",
    "        # for loop for len(nums)\n",
    "        for j in range(len(nums)):\n",
    "            # if nums[j] != val\n",
    "            if nums[j] != val:\n",
    "                # store the value in nums list to first element and increasing the value\n",
    "                nums[i] = nums[j]\n",
    "                i += 1\n",
    "        return i\n",
    "\n",
    "\n",
    "nums = [3,3,2,3,2]\n",
    "val = 2  \n",
    "\n",
    "solution = Solution()\n",
    "print(solution.removeElement(nums, val))"
   ]
  }
 ],
 "metadata": {
  "kernelspec": {
   "display_name": "Python 3",
   "language": "python",
   "name": "python3"
  },
  "language_info": {
   "codemirror_mode": {
    "name": "ipython",
    "version": 3
   },
   "file_extension": ".py",
   "mimetype": "text/x-python",
   "name": "python",
   "nbconvert_exporter": "python",
   "pygments_lexer": "ipython3",
   "version": "3.11.5"
  }
 },
 "nbformat": 4,
 "nbformat_minor": 2
}
